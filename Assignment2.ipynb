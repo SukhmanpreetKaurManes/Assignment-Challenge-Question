{
  "nbformat": 4,
  "nbformat_minor": 0,
  "metadata": {
    "colab": {
      "provenance": [],
      "authorship_tag": "ABX9TyOUZN7e2HKketJRHGYuMGsT",
      "include_colab_link": true
    },
    "kernelspec": {
      "name": "python3",
      "display_name": "Python 3"
    },
    "language_info": {
      "name": "python"
    }
  },
  "cells": [
    {
      "cell_type": "markdown",
      "metadata": {
        "id": "view-in-github",
        "colab_type": "text"
      },
      "source": [
        "<a href=\"https://colab.research.google.com/github/SukhmanpreetKaurManes/Assignment-Challenge-Question/blob/main/Assignment2.ipynb\" target=\"_parent\"><img src=\"https://colab.research.google.com/assets/colab-badge.svg\" alt=\"Open In Colab\"/></a>"
      ]
    },
    {
      "cell_type": "markdown",
      "source": [
        "**Assignment 2**"
      ],
      "metadata": {
        "id": "bqG7LicKZhEh"
      }
    },
    {
      "cell_type": "code",
      "source": [
        "L=[\"Ram\",1,\"Sham\",2,\"Aman\",3]\n",
        "print(L)\n",
        "\n",
        "\n",
        "for i in range(len(L)):\n",
        "  if type(L[i]) == int:\n",
        "      L[i] = str(L[i])\n",
        "\n",
        "L.sort()\n",
        "print(\"Sorted List with heterogenous elements --> \",L)\n"
      ],
      "metadata": {
        "colab": {
          "base_uri": "https://localhost:8080/"
        },
        "id": "qCVIyNavZqEK",
        "outputId": "8eb1f4b6-16ac-4d51-f132-b161860b287e"
      },
      "execution_count": 3,
      "outputs": [
        {
          "output_type": "stream",
          "name": "stdout",
          "text": [
            "['Ram', 1, 'Sham', 2, 'Aman', 3]\n",
            "Sorted List with heterogenous elements -->  ['1', '2', '3', 'Aman', 'Ram', 'Sham']\n"
          ]
        }
      ]
    },
    {
      "cell_type": "markdown",
      "source": [
        "**OR**"
      ],
      "metadata": {
        "id": "WmGzufwbb5n_"
      }
    },
    {
      "cell_type": "code",
      "source": [
        "L=['Kamal','Sham',85,78,'Ram',9]\n",
        "print(\"Original list --> \",L)\n",
        "l1=[]\n",
        "l2=[]\n",
        "for i in L:\n",
        "  try:\n",
        "    l1.append(int(i))\n",
        "  except:\n",
        "    l2.append(i)\n",
        "l1.sort()\n",
        "l2.sort()\n",
        "print(\"Sorted list --> \",l1+l2)"
      ],
      "metadata": {
        "colab": {
          "base_uri": "https://localhost:8080/"
        },
        "id": "ayFU57pEcAKs",
        "outputId": "550cc736-1bd3-4a4a-8131-cfc66d30eacf"
      },
      "execution_count": 12,
      "outputs": [
        {
          "output_type": "stream",
          "name": "stdout",
          "text": [
            "Original list -->  ['Kamal', 'Sham', 85, 78, 'Ram', 9]\n",
            "Sorted list -->  [9, 78, 85, 'Kamal', 'Ram', 'Sham']\n"
          ]
        }
      ]
    }
  ]
}